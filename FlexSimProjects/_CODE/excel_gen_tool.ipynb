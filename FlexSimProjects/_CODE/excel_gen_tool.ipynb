{
 "cells": [
  {
   "cell_type": "code",
   "execution_count": 1,
   "metadata": {},
   "outputs": [],
   "source": [
    "import pandas as pd\n",
    "import numpy as np"
   ]
  },
  {
   "cell_type": "code",
   "execution_count": 6,
   "metadata": {},
   "outputs": [],
   "source": [
    "test_df = pd.DataFrame()\n",
    "\n",
    "arrival_gen_exp = np.random.default_rng().exponential\n",
    "arrival_gen_norm = np.random.default_rng().normal()\n",
    "arrival_gen_log = np.random.default_rng().logistic\n",
    "arrival_gen_pareto = np.random.default_rng().pareto\n",
    "\n",
    "samplesize = 5\n",
    "funct_dict = {\n",
    "    \"exp\": [arrival_gen_exp, {\"scale\": 3, \"size\":samplesize}],\n",
    "    \"norm\": [arrival_gen_norm, {\"location\":5,\"scale\": 3, \"size\":samplesize}],\n",
    "    \"log\": [arrival_gen_exp, {\"location\":5, \"scale\": 3, \"size\":samplesize}],\n",
    "    \"pareto\": [arrival_gen_exp, {\"scale\": 3, \"size\":samplesize}],\n",
    "}\n",
    "\n",
    "\n",
    "def generate_arrival_table(arrival_time_gen, product_gen, quantity_gen, samplesize=5):\n",
    "    ret_df = pd.DataFrame()\n",
    "\n"
   ]
  },
  {
   "cell_type": "code",
   "execution_count": 9,
   "metadata": {},
   "outputs": [
    {
     "data": {
      "text/plain": [
       "array([[<AxesSubplot:title={'center':'0'}>]], dtype=object)"
      ]
     },
     "execution_count": 9,
     "metadata": {},
     "output_type": "execute_result"
    },
    {
     "data": {
      "image/png": "[encoded data removed]",
      "text/plain": [
       "<Figure size 432x288 with 1 Axes>"
      ]
     },
     "metadata": {
      "needs_background": "light"
     },
     "output_type": "display_data"
    }
   ],
   "source": [
    "argv = {\"scale\":.4, \"size\":10}\n",
    "pd.DataFrame(arrival_gen_exp(**argv)).hist()"
   ]
  }
 ],
 "metadata": {
  "kernelspec": {
   "display_name": "Python 3.10.5 64-bit",
   "language": "python",
   "name": "python3"
  },
  "language_info": {
   "codemirror_mode": {
    "name": "ipython",
    "version": 3
   },
   "file_extension": ".py",
   "mimetype": "text/x-python",
   "name": "python",
   "nbconvert_exporter": "python",
   "pygments_lexer": "ipython3",
   "version": "3.10.5"
  },
  "orig_nbformat": 4,
  "vscode": {
   "interpreter": {
    "hash": "1f3e8e07226642ffa301a90ea6fbd5a6ba81757b4587621b4e2b4974a82f4b2d"
   }
  }
 },
 "nbformat": 4,
 "nbformat_minor": 2
}
